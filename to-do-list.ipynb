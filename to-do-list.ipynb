{
 "cells": [
  {
   "cell_type": "code",
   "execution_count": 1,
   "id": "599bc480-c921-47c4-988c-842945f8e434",
   "metadata": {},
   "outputs": [],
   "source": [
    "import os\n",
    "task_file = \"tasks.txt\""
   ]
  },
  {
   "cell_type": "code",
   "execution_count": 2,
   "id": "71b5b0e3-4393-4d41-bdc7-735f0850ed9e",
   "metadata": {},
   "outputs": [],
   "source": [
    "def display_menu():\n",
    "    print(\"\\nTo-Do List Menu:\")\n",
    "    print(\"1. Add a task\")\n",
    "    print(\"2. View tasks\")\n",
    "    print(\"3. Remove a task\")\n",
    "    print(\"4. Exit program\")"
   ]
  },
  {
   "cell_type": "code",
   "execution_count": 3,
   "id": "b1e8decd-dc22-44fb-883b-dd8a0002c491",
   "metadata": {},
   "outputs": [],
   "source": [
    "def add_task():\n",
    "    task = input(\"Enter the task description: \")\n",
    "    with open(task_file, \"a\") as file:\n",
    "        file.write(task + \"\\n\")\n",
    "    print(\"Task is added.\")\n"
   ]
  },
  {
   "cell_type": "code",
   "execution_count": 4,
   "id": "7bdac9b9-d241-42ed-abb5-9970879d5066",
   "metadata": {},
   "outputs": [],
   "source": [
    "def view_tasks(task_file):\n",
    "    if not os.path.exists(task_file):\n",
    "        print(\"No tasks found.\")\n",
    "        return\n",
    "\n",
    "    with open(task_file, \"r\") as file:\n",
    "        tasks = file.readlines()\n",
    "\n",
    "    if tasks:\n",
    "        print(\"\\nYour tasks:\")\n",
    "        for index, task in enumerate(tasks):\n",
    "            print(f\"{index + 1}. {task.strip()}\")\n",
    "    else:\n",
    "        print(\"No tasks found.\")\n"
   ]
  },
  {
   "cell_type": "code",
   "execution_count": 5,
   "id": "60256556-929d-42b3-a08e-a00b1f2c39a4",
   "metadata": {},
   "outputs": [],
   "source": [
    "def remove_task():\n",
    "    if not os.path.exists(task_file):\n",
    "        print(\"No tasks found to remove.\")\n",
    "        return\n",
    "\n",
    "    with open(task_file, \"r\") as file:\n",
    "        tasks = file.readlines()\n",
    "\n",
    "    if not tasks:\n",
    "        print(\"No tasks to remove.\")\n",
    "        return\n",
    "\n",
    "    view_tasks()\n",
    "    try:\n",
    "        task_number = int(input(\"Enter the number of the task to remove: \"))\n",
    "        if 1 <= task_number <= len(tasks):\n",
    "            tasks.pop(task_number - 1)\n",
    "            with open(task_file, \"w\") as file:\n",
    "                file.writelines(tasks)\n",
    "            print(\"Task removed\")\n",
    "        else:\n",
    "            print(\"Invalid task number\")\n",
    "    except ValueError:\n",
    "        print(\"Please enter a valid number.\")\n"
   ]
  },
  {
   "cell_type": "code",
   "execution_count": 6,
   "id": "45993001-7c67-411a-9b1e-7deb1cc9983d",
   "metadata": {},
   "outputs": [],
   "source": [
    "def main():\n",
    "\n",
    "    while True:\n",
    "        display_menu()\n",
    "        choice = input(\"Enter your choice: \")\n",
    "\n",
    "        if choice == \"1\":\n",
    "            add_task()\n",
    "        elif choice == \"2\":\n",
    "            view_tasks()\n",
    "        elif choice == \"3\":\n",
    "            remove_task()\n",
    "        elif choice == \"4\":\n",
    "            print(\"Exiting...\")\n",
    "            break\n",
    "        else:\n",
    "            print(\"Invalid choice! Please select a valid option.\")"
   ]
  },
  {
   "cell_type": "code",
   "execution_count": null,
   "id": "637811ec-7831-4081-a8c8-72bdc0d620d0",
   "metadata": {},
   "outputs": [
    {
     "name": "stdout",
     "output_type": "stream",
     "text": [
      "\n",
      "To-Do List Menu:\n",
      "1. Add a task\n",
      "2. View tasks\n",
      "3. Remove a task\n",
      "4. Exit program\n"
     ]
    }
   ],
   "source": [
    "if __name__ == \"__main__\":\n",
    "    main()"
   ]
  },
  {
   "cell_type": "code",
   "execution_count": null,
   "id": "cb4fa5f7-a9a0-4d40-86a8-ff545396bd18",
   "metadata": {},
   "outputs": [],
   "source": []
  }
 ],
 "metadata": {
  "kernelspec": {
   "display_name": "Python 3 (ipykernel)",
   "language": "python",
   "name": "python3"
  },
  "language_info": {
   "codemirror_mode": {
    "name": "ipython",
    "version": 3
   },
   "file_extension": ".py",
   "mimetype": "text/x-python",
   "name": "python",
   "nbconvert_exporter": "python",
   "pygments_lexer": "ipython3",
   "version": "3.12.4"
  }
 },
 "nbformat": 4,
 "nbformat_minor": 5
}
